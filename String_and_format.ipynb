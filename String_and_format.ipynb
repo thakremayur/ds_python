{
  "cells": [
    {
      "cell_type": "code",
      "source": [
        "print('Hello World')"
      ],
      "metadata": {
        "id": "glA8V2SvD4_m",
        "outputId": "ace92c2c-78f4-43c3-f1e2-2fb046f54879",
        "colab": {
          "base_uri": "https://localhost:8080/"
        }
      },
      "execution_count": null,
      "outputs": [
        {
          "output_type": "stream",
          "name": "stdout",
          "text": [
            "Hello World\n"
          ]
        }
      ]
    },
    {
      "cell_type": "markdown",
      "source": [
        "String Important Questions\n",
        "\n",
        "| Method                     | Description                                                                                                | Example                                 |\n",
        "| -------------------------- | ---------------------------------------------------------------------------------------------------------- | --------------------------------------- |\n",
        "| `strip()`                  | Remove whitespace (or specified chars) from both ends ([Programiz][1])                                     | ` \"  hi  \".strip()  # 'hi'`             |\n",
        "| `lstrip()`                 | Remove whitespace (or specified chars) from **left** end ([Programiz][1])                                  | ` \"  hi\".lstrip()    # 'hi'`            |\n",
        "| `rstrip()`                 | Remove whitespace (or specified chars) from **right** end ([Programiz][1])                                 | ` \"hi  \".rstrip()    # 'hi'`            |\n",
        "| `split(sep=None)`          | Split into list on `sep` (default whitespace) ([Programiz][1])                                             | ` \"a b c\".split()    # ['a','b','c']`   |\n",
        "| `rsplit(sep=None)`         | Split from **right** on `sep` (max splits) ([GeeksforGeeks][2])                                            | ` \"1,2,3\".rsplit(',',1) # ['1,2','3']`  |\n",
        "| `join(iterable)`           | Concatenate iterable of strings with this as separator ([Programiz][1])                                    | ` \"-\".join(['a','b'])  # 'a-b'`         |\n",
        "| `find(sub[,start,end])`    | Return lowest index of `sub`, or `-1` if missing ([GeeksforGeeks][2])                                      | ` \"hello\".find('l')   # 2`              |\n",
        "| `index(sub[,start,end])`   | Like `find()`, but raises `ValueError` if missing ([GeeksforGeeks][2])                                     | ` \"hi\".index('i')     # 1`              |\n",
        "| `rfind(sub)`               | Return highest index of `sub`, or `-1` if missing ([GeeksforGeeks][2])                                     | ` \"banana\".rfind('a') # 5`              |\n",
        "| `replace(old,new[,count])` | Return copy with all (or first `count`) `old`→`new` substitutions ([GeeksforGeeks][2])                     | ` \"foo\".replace('o','a') # 'faa'`       |\n",
        "| `count(sub[,start,end])`   | Count non-overlapping occurrences of `sub` ([GeeksforGeeks][2])                                            | ` \"abab\".count('a')    # 2`             |\n",
        "| `lower()`                  | Return copy with all chars lowercased ([Programiz][1])                                                     | ` \"AbC\".lower()        # 'abc'`         |\n",
        "| `upper()`                  | Return copy with all chars uppercased ([Programiz][1])                                                     | ` \"AbC\".upper()        # 'ABC'`         |\n",
        "| `swapcase()`               | Swap upper↔lowercase for all chars ([DigitalOcean][3])                                                     | ` \"AbC\".swapcase()     # 'aBc'`         |\n",
        "| `title()`                  | Return “Title Case” (each word capitalized) ([Programiz][1])                                               | ` \"hello world\".title()# 'Hello World'` |\n",
        "| `capitalize()`             | Capitalize **first** character only ([GeeksforGeeks][2])                                                   | ` \"hello\".capitalize() # 'Hello'`       |\n",
        "| `startswith(prefix)`       | Return `True` if string begins with `prefix` ([Programiz][1])                                              | ` \"test\".startswith('t') # True`        |\n",
        "| `endswith(suffix)`         | Return `True` if string ends with `suffix` ([Programiz][1])                                                | ` \"test\".endswith('t')   # True`        |\n",
        "| `isalnum()`                | `True` if all chars are alphanumeric (no spaces) ([GeeksforGeeks][2])                                      | ` \"a1\".isalnum()       # True`          |\n",
        "| `isalpha()`                | `True` if all chars are alphabetic (no digits/spaces) ([GeeksforGeeks][2])                                 | ` \"abc\".isalpha()      # True`          |\n",
        "| `isdigit()`                | `True` if all chars are digits ([GeeksforGeeks][2])                                                        | ` \"123\".isdigit()      # True`          |\n",
        "| `islower()`                | `True` if there is at least one cased char and all are lowercase ([GeeksforGeeks][2])                      | ` \"a1\".islower()       # True`          |\n",
        "| `isupper()`                | `True` if there is at least one cased char and all are uppercase ([GeeksforGeeks][2])                      | ` \"A1\".isupper()       # True`          |\n",
        "| `istitle()`                | `True` if string is titlecased: each word begins with uppercase followed by lowercase ([GeeksforGeeks][2]) | ` \"Hello World\".istitle() # True`       |\n",
        "| `isspace()`                | `True` if all chars are whitespace (and at least one) ([GeeksforGeeks][2])                                 | ` \"  \\t\\n\".isspace()    # True`         |\n",
        "\n",
        "[1]: https://www.programiz.com/python-programming/methods/string?utm_source=chatgpt.com \"Python String Methods - Programiz\"\n",
        "[2]: https://www.geeksforgeeks.org/python-string-methods/?utm_source=chatgpt.com \"Python String Methods | GeeksforGeeks\"\n",
        "[3]: https://www.digitalocean.com/community/tutorials/python-string-functions?utm_source=chatgpt.com \"Python String Functions - DigitalOcean\"\n"
      ],
      "metadata": {
        "id": "ylMDpBSKEDEO"
      }
    },
    {
      "cell_type": "markdown",
      "source": [
        "  How to remember?\n",
        "\n",
        "Trim/Split/Join: Strip → Split → Join\n",
        "\n",
        "Search/Replace: Find/Index → Replace → Count\n",
        "\n",
        "Case: lower/upper → swapcase → title/capitalize\n",
        "\n",
        "Check: startswith/endswith → is…()"
      ],
      "metadata": {
        "id": "H5Tk-_3NJAPQ"
      }
    },
    {
      "cell_type": "code",
      "source": [
        "# write program to reverse a string\n",
        "input = 'durga'\n",
        "print(input[::-1]) #1st way\n",
        "\n",
        "s = list(reversed(input))\n",
        "print(s)\n",
        "print(''.join(reversed(input))) #2nd way\n",
        "\n",
        "res = ''\n",
        "for i in range(len(input)):\n",
        "  res = input[i] + res  #3rd way\n",
        "print(res)"
      ],
      "metadata": {
        "id": "ZbyuYC0-EGoi",
        "outputId": "35c1d516-8fc8-4569-994a-c86226330e7a",
        "colab": {
          "base_uri": "https://localhost:8080/"
        }
      },
      "execution_count": null,
      "outputs": [
        {
          "output_type": "stream",
          "name": "stdout",
          "text": [
            "agrud\n",
            "['a', 'g', 'r', 'u', 'd']\n",
            "agrud\n",
            "agrud\n"
          ]
        }
      ]
    },
    {
      "cell_type": "code",
      "source": [
        "# ) Program to Reverse Order of Words\n",
        "s = \"Learning Python is very Easy\"\n",
        "#  Out: Easy Very is Python Learning\n",
        "\n",
        "l = s.split()\n",
        "print(' '.join(l[::-1]))"
      ],
      "metadata": {
        "id": "NcqXSDcXFXu6",
        "outputId": "ea9f7e2c-8205-4be0-8f1d-e98990ff6f76",
        "colab": {
          "base_uri": "https://localhost:8080/"
        }
      },
      "execution_count": null,
      "outputs": [
        {
          "output_type": "stream",
          "name": "stdout",
          "text": [
            "Easy very is Python Learning\n"
          ]
        }
      ]
    },
    {
      "cell_type": "code",
      "source": [
        "# Q3) Program to Reverse Internal Content of each Word\n",
        "s =  'Durga Software Solutions'\n",
        "#  Output: agruD erawtfoS sno\n",
        "res = []\n",
        "l = s.split()\n",
        "for word in l:\n",
        "  res.append(word[::-1])\n",
        "\n",
        "print(' '.join(res))"
      ],
      "metadata": {
        "id": "Ml-Ds0NSKt9r",
        "outputId": "fa6c089a-895d-4f4f-9703-d93f3f8faba9",
        "colab": {
          "base_uri": "https://localhost:8080/"
        }
      },
      "execution_count": null,
      "outputs": [
        {
          "output_type": "stream",
          "name": "stdout",
          "text": [
            "agruD erawtfoS snoituloS\n"
          ]
        }
      ]
    },
    {
      "cell_type": "code",
      "source": [
        "# Write a Program to Print Characters at Odd Position and Even Position for the given String?\n",
        "\n",
        "# s = input(\"Enter Some String:\")\n",
        "# print(\"Characters at Even Position:\",s[0::2])\n",
        "# print(\"Characters at Odd Position:\",s[1::2])\n"
      ],
      "metadata": {
        "id": "P30VK-fiNEup"
      },
      "execution_count": null,
      "outputs": []
    },
    {
      "cell_type": "code",
      "source": [
        "# Q5) Program to Merge Characters of 2 Strings into a Single String by taking Characters alternatively\n",
        "#  Input:\n",
        "s1 = \"ravi\"\n",
        "s2 = \"reta\"\n",
        "\n",
        "res = ''\n",
        "i,j = 0,0\n",
        "while i<len(s1) or j<len(s2):\n",
        "  if i<len(s1):\n",
        "    res += s1[i]\n",
        "    i+=1\n",
        "  if j<len(s2):\n",
        "    res += s2[j]\n",
        "    j+=1\n",
        "print(res)\n"
      ],
      "metadata": {
        "id": "qUGherE2NO7H",
        "outputId": "8fb00e9d-083f-473e-a3ed-3ba27a1333dd",
        "colab": {
          "base_uri": "https://localhost:8080/"
        }
      },
      "execution_count": null,
      "outputs": [
        {
          "output_type": "stream",
          "name": "stdout",
          "text": [
            "rraevtia\n"
          ]
        }
      ]
    },
    {
      "cell_type": "code",
      "source": [
        "# Q6) Write a Program to Sort the Characters of the String and First Alphabet Symbols followed by Numeric Values\n",
        "s =  'B4A1D3'\n",
        "#  Output: ABD1341\n",
        "s1 = s2 = res = ''\n",
        "\n",
        "for x in s:\n",
        "  if x.isalpha():\n",
        "    s1 += x\n",
        "  else:\n",
        "    s2 += x\n",
        "print(s1 + s2)\n",
        "\n",
        "for x in sorted(s1):\n",
        "  res += x\n",
        "for x in sorted(s2):\n",
        "  res += x\n",
        "print(res)"
      ],
      "metadata": {
        "id": "D1RbJg5ScURr",
        "outputId": "1e792410-1627-4954-8604-ed9e53b3b124",
        "colab": {
          "base_uri": "https://localhost:8080/"
        }
      },
      "execution_count": null,
      "outputs": [
        {
          "output_type": "stream",
          "name": "stdout",
          "text": [
            "BAD413\n",
            "ABD134\n"
          ]
        }
      ]
    },
    {
      "cell_type": "code",
      "source": [
        "# Q7) Write a Program for the following Requirement\n",
        "s = \"a4b3c2\"\n",
        "#  Output: aaaabbbcc\n",
        "res = ''\n",
        "\n",
        "for x in s:\n",
        "  if x.isalpha():\n",
        "    res += x\n",
        "    prev_ch = x\n",
        "  else:\n",
        "    res += prev_ch * (int(x)-1)\n",
        "\n",
        "print(res)\n"
      ],
      "metadata": {
        "id": "-paydSweeYYo",
        "outputId": "0e05bc57-b9c8-4739-c8c7-5990e1468703",
        "colab": {
          "base_uri": "https://localhost:8080/"
        }
      },
      "execution_count": null,
      "outputs": [
        {
          "output_type": "stream",
          "name": "stdout",
          "text": [
            "aaaabbbcc\n"
          ]
        }
      ]
    },
    {
      "cell_type": "code",
      "source": [
        "# Q8) Write a Program to perform the following Activity\n",
        "s = \"a4m3x2\"\n",
        "#  Outpt: aeknbd\n",
        "res = ''\n",
        "for x in s:\n",
        "  if x.isalpha():\n",
        "    res += x\n",
        "    prev_ch = x\n",
        "  else:\n",
        "    res += chr(ord(prev_ch)+int(x))\n",
        "\n",
        "print(res)\n",
        "\n"
      ],
      "metadata": {
        "id": "-XZ5_cwWgtLX",
        "outputId": "16cda290-1213-420b-c825-d15944136f5a",
        "colab": {
          "base_uri": "https://localhost:8080/"
        }
      },
      "execution_count": null,
      "outputs": [
        {
          "output_type": "stream",
          "name": "stdout",
          "text": [
            "aempxz\n"
          ]
        }
      ]
    },
    {
      "cell_type": "code",
      "source": [
        "# ) Write a Program to Remove Duplicate Characters from the given Input String?\n",
        "s = 'ABCDABBCDABBBCCCDDEEEF'\n",
        "#  Output: ABCDEF\n",
        "res = ''\n",
        "for x in s:\n",
        "  if x not in res:\n",
        "    res += x\n",
        "\n",
        "print(res)\n"
      ],
      "metadata": {
        "id": "I8HIWL0hiR6i",
        "outputId": "2267c81d-cd2f-41dd-8963-8004ca6cbbb6",
        "colab": {
          "base_uri": "https://localhost:8080/"
        }
      },
      "execution_count": null,
      "outputs": [
        {
          "output_type": "stream",
          "name": "stdout",
          "text": [
            "ABCDEF\n"
          ]
        }
      ]
    },
    {
      "cell_type": "code",
      "source": [
        "# ) Write a Program to Remove Duplicate Characters from the given Input String?\n",
        "s = 'ABCABCABBCDE'\n",
        "#  Output: A-3,B-4,C-3,D-1,E-1\n",
        "res = {}\n",
        "\n",
        "for x in s:\n",
        "  if x in res.keys():\n",
        "    res[x] += 1\n",
        "  else:\n",
        "    res[x] = 1\n",
        "\n",
        "print(res)"
      ],
      "metadata": {
        "id": "1UCejPFIi5oY",
        "outputId": "1bd6d6d3-c15c-462c-e13c-9589531a4e75",
        "colab": {
          "base_uri": "https://localhost:8080/"
        }
      },
      "execution_count": null,
      "outputs": [
        {
          "output_type": "stream",
          "name": "stdout",
          "text": [
            "{'A': 3, 'B': 4, 'C': 3, 'D': 1, 'E': 1}\n"
          ]
        }
      ]
    },
    {
      "cell_type": "code",
      "source": [
        "# Write a Program to perform the following Task?\n",
        "s = 'one two three four five six seven'\n",
        "#  Output: 'one owt three ruof five xis seven'\n",
        "l = s.split()\n",
        "res = []\n",
        "for i in range(len(l)):\n",
        "  if i&1:\n",
        "    res.append(l[i][::-1])\n",
        "  else:\n",
        "    res.append(l[i])\n",
        "\n",
        "print(' '.join(res))"
      ],
      "metadata": {
        "id": "WHIXmRXHj1TX",
        "outputId": "ddb60812-036c-4705-ee9b-68a3a0a4dd2f",
        "colab": {
          "base_uri": "https://localhost:8080/"
        }
      },
      "execution_count": null,
      "outputs": [
        {
          "output_type": "stream",
          "name": "stdout",
          "text": [
            "one owt three ruof five xis seven\n"
          ]
        }
      ]
    },
    {
      "cell_type": "markdown",
      "source": [
        "Below is a consolidated table of the most important `str.format()` features—covering replacement fields, number formatting, alignment, sign, grouping, type conversion, truncation, and advanced lookups. Each row gives the syntax, a brief description, and a minimal example.\n",
        "\n",
        "> **All examples use**:\n",
        ">\n",
        "> ```python\n",
        "> template = \"…\"\n",
        "> print(template.format(...))\n",
        "> ```\n",
        "\n",
        "| **Feature**                      | **Syntax**                            | **Description**                                                                                         | **Example**                                                                               |\n",
        "| -------------------------------- | ------------------------------------- | ------------------------------------------------------------------------------------------------------- | ----------------------------------------------------------------------------------------- |\n",
        "| **Default Positionals**          | `{}`                                  | Auto-numbered positional fields; values filled in left-to-right order ([Real Python][1])                | `\"{}, {}!\".format(\"Hello\",\"World\")  →  \"Hello, World!\"`                                   |\n",
        "| **Explicit Positionals**         | `{0}`, `{1}`                          | Refer to arguments by index ([Python documentation][2])                                                 | `\"{1} {0}\".format(\"first\",\"second\")  →  \"second first\"`                                   |\n",
        "| **Keyword Fields**               | `{name}`, `{age}`                     | Refer to keyword arguments by name ([GeeksforGeeks][3])                                                 | `\"{greet}, {who}\".format(greet=\"Hi\",who=\"You\")`                                           |\n",
        "| **Numeric Type: Decimal**        | `{:d}`                                | Format integer as decimal; alias for default integer formatting ([W3Schools][4])                        | `\"{:d}\".format(42)  →  \"42\"`                                                              |\n",
        "| **Numeric Type: Binary/Oct/Hex** | `{:b}`, `{:o}`, `{:x}`, `{:X}`        | Format integer as binary/octal/hex (lower/upper) ([W3Schools][4])                                       | `\"{:b}\".format(10) → \"1010\"; \"{:X}\".format(255) → \"FF\"`                                   |\n",
        "| **Float Precision & Width**      | `{:8.2f}`                             | Width = 8 total chars; precision = 2 decimals; rounds as needed ([Real Python][5])                      | `\"{:8.2f}\".format(3.14159)  →  \"    3.14\"`                                                |\n",
        "| **Zero-Padding**                 | `{:05d}`, `{:08.3f}`                  | Pad numeric field with leading zeros to meet width; can combine with precision ([Real Python][1])       | `\"{:05d}\".format(42) → \"00042\"`                                                           |\n",
        "| **Sign Control**                 | `{:+d}`, `{:+.2f}`                    | Always show `+` or `-` sign ([Real Python][5])                                                          | `\"{:+d}\".format(7) → \"+7\"; \"{:+.1f}\".format(-1.23) → \"-1.2\"`                              |\n",
        "| **Alignment & Fill**             | `{:*^10}`, `{:>10}`, `{:<10}`         | `<` left, `>` right, `^` center align into width; optional fill before align char ([Stack Overflow][6]) | `\"{:*^10}\".format(\"cat\") → \"**cat****\"; \"{:>5}\".format(\"hi\") → \"   hi\"`                   |\n",
        "| **Thousands Separator**          | `{:,.2f}`                             | Insert commas every 3 digits; combine with precision ([Python documentation][2])                        | `\"{:,.2f}\".format(12345.678) → \"12,345.68\"`                                               |\n",
        "| **Truncation (Max Width)**       | `{:.5}`, `{:8.5}`                     | For strings: max width 5 chars; optional total width before truncation ([LearnPython][7])               | `\"{:.3}\".format(\"abcdef\") → \"abc\"; \"{:5.3}\".format(\"abcdef\") → \"  abc\"`                   |\n",
        "| **Dictionary Unpacking**         | `\"{name} is {age}\".format(**d)`       | Unpack a dict `d` into named fields ([GeeksforGeeks][3])                                                | `d={\"name\":\"A\",\"age\":30}; \"{name} is {age}\".format(**d)`                                  |\n",
        "| **Attribute & Item Lookup**      | `\"{0.name}\", \"{0[0]}\"`                | Access object attributes or sequence/dict items ([Python documentation][2])                             | `class P: pass; p=P(); p.x=5; \"{0.x}\".format(p) → \"5\"`                                    |\n",
        "| **Dynamic Format Spec**          | `\"{:{fill}{align}{width}}\".format() ` | Use format fields inside spec via keyword args ([Medium][8])                                            | `fmt=\"{:{fill}{align}{width}}\"; fmt.format(\"hi\", fill=\"*\", align=\"^\", width=5) → \"*hi**\"` |\n",
        "| **Date & Time**                  | `\"{:%Y-%m-%d}\".format(dt)`            | Use datetime format codes inside `{:%…}` ([Python documentation][9])                                    | `import datetime; \"{:%d/%m}\".format(datetime.datetime(2025,5,1)) → \"01/05\"`               |\n",
        "| **Complex Numbers**              | `\"{0.real} + {0.imag}j\".format(c)`    | Access real/imag parts of complex numbers ([Python documentation][2])                                   | `c=1+2j; \"{0.real}+{0.imag}j\".format(c) → \"1.0+2.0j\"`                                     |\n",
        "\n",
        "---\n",
        "\n",
        "#### Quick Tips to Remember\n",
        "\n",
        "* **`{}` vs. `%`**: `.format()` is more powerful and readable than old `%`-formatting ([W3Schools][4]).\n",
        "* **Order of spec**: `[fill][align][sign][#][0][width][,][.precision][type]` ([Python documentation][2]).\n",
        "* **Default alignment**: Numbers `>` right, Strings `<` left.\n",
        "* **Use f-strings**: For literal ease, prefix with `f\"…{var:spec}…\"`, available since Python 3.6 ([Python documentation][9]).\n",
        "\n",
        "Refer to the [Python Docs: Format Specification Mini-Language](https://docs.python.org/3/library/string.html#formatspec) for the full reference ([Python documentation][2]).\n",
        "\n",
        "[1]: https://realpython.com/python-format-mini-language/?utm_source=chatgpt.com \"Python's Format Mini-Language for Tidy Strings\"\n",
        "[2]: https://docs.python.org/3/library/string.html?utm_source=chatgpt.com \"string — Common string operations — Python 3.13.3 documentation\"\n",
        "[3]: https://www.geeksforgeeks.org/python-string-format-method/?utm_source=chatgpt.com \"Python String format() Method - GeeksforGeeks\"\n",
        "[4]: https://www.w3schools.com/python/ref_string_format.asp?utm_source=chatgpt.com \"Python String format() Method - W3Schools\"\n",
        "[5]: https://realpython.com/python-string-formatting/?utm_source=chatgpt.com \"Python String Formatting: Available Tools and Their Features\"\n",
        "[6]: https://stackoverflow.com/questions/9549084/using-pythons-format-specification-mini-language-to-align-floats?utm_source=chatgpt.com \"Using Python's Format Specification Mini-Language to align floats\"\n",
        "[7]: https://learnpython.com/blog/python-string-formatting/?utm_source=chatgpt.com \"Python's String format() Cheat Sheet - LearnPython.com\"\n",
        "[8]: https://medium.com/%40mahalakshmi.j_1916/mastering-string-formatting-with-format-specification-mini-language-06ae83b1686d?utm_source=chatgpt.com \"Mastering String Formatting with format specification mini language\"\n",
        "[9]: https://docs.python.org/3/tutorial/inputoutput.html?utm_source=chatgpt.com \"7. Input and Output — Python 3.13.3 documentation\"\n"
      ],
      "metadata": {
        "id": "E0xfy4bTrMo5"
      }
    },
    {
      "cell_type": "code",
      "source": [],
      "metadata": {
        "id": "pLfEK9O1noIR"
      },
      "execution_count": null,
      "outputs": []
    }
  ],
  "metadata": {
    "colab": {
      "provenance": []
    },
    "kernelspec": {
      "display_name": "Python 3",
      "name": "python3"
    }
  },
  "nbformat": 4,
  "nbformat_minor": 0
}