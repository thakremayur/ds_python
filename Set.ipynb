{
  "nbformat": 4,
  "nbformat_minor": 0,
  "metadata": {
    "colab": {
      "provenance": []
    },
    "kernelspec": {
      "name": "python3",
      "display_name": "Python 3"
    },
    "language_info": {
      "name": "python"
    }
  },
  "cells": [
    {
      "cell_type": "code",
      "execution_count": null,
      "metadata": {
        "id": "Fwe49seVFSSZ"
      },
      "outputs": [],
      "source": []
    },
    {
      "cell_type": "markdown",
      "source": [
        "Below is a comprehensive yet focused guide to Python’s **set** type—including creation, core properties, mutation methods, mathematical operations, comprehensions, and practical tips. You’ll find **10+ high-quality citations** from the official docs and reputable tutorials.\n",
        "\n",
        "Python **sets** are **unordered** collections of **unique**, **hashable** elements. They support fast membership tests, removal of duplicates, and standard math operations (union, intersection, etc.). Unlike lists, they do **not** preserve insertion order (prior to Python 3.7), nor support indexing or slicing. Sets are **mutable**—you can add or remove items in place—but because they’re unindexed, you interact with them via methods rather than by position ([Python documentation][1], [Python Reference][2]).\n",
        "\n",
        "---\n",
        "\n",
        "## 1. Creating Sets\n",
        "\n",
        "* **Literal syntax**:\n",
        "\n",
        "  ````python\n",
        "  s = {10, 20, 30, 40}\n",
        "  print(type(s))  # <class 'set'>\n",
        "  ``` :contentReference[oaicite:1]{index=1}  \n",
        "  ````\n",
        "* **From iterable** with the constructor:\n",
        "\n",
        "  ````python\n",
        "  l = [10,20,30,40,10]\n",
        "  s = set(l)\n",
        "  print(s)  # {40, 10, 20, 30}\n",
        "  ``` :contentReference[oaicite:2]{index=2}  \n",
        "  ````\n",
        "* **Empty set** must use `set()`, not `{}` (that creates a dict):\n",
        "\n",
        "  ````python\n",
        "  s = set()\n",
        "  print(type(s))  # <class 'set'>\n",
        "  ``` :contentReference[oaicite:3]{index=3}  \n",
        "  ````\n",
        "\n",
        "---\n",
        "\n",
        "## 2. Core Properties\n",
        "\n",
        "| Property                | Behavior                                                                                   |\n",
        "| ----------------------- | ------------------------------------------------------------------------------------------ |\n",
        "| **Uniqueness**          | No duplicate elements allowed; duplicates in input are removed ([Python documentation][1]) |\n",
        "| **Unordered**           | No guaranteed order; iteration yields in arbitrary sequence ([Python Reference][2])        |\n",
        "| **Mutable**             | Can add/remove items in place via methods (not via indexing) ([W3Schools][3])              |\n",
        "| **Hashable elements**   | Elements must be immutable types (e.g. ints, strings, tuples) ([Python documentation][1])  |\n",
        "| **No indexing/slicing** | Cannot use `s[0]` or `s[1:3]`; use iteration or membership tests ([Python Reference][2])   |\n",
        "\n",
        "---\n",
        "\n",
        "## 3. Mutation Methods\n",
        "\n",
        "| Method               | Description                                                                      | Example                       |\n",
        "| -------------------- | -------------------------------------------------------------------------------- | ----------------------------- |\n",
        "| `add(elem)`          | Add a single element ([UW PCE Python Certificate][4])                            | `s.add(50)`                   |\n",
        "| `update(*iterables)` | Add all elements from each iterable ([UW PCE Python Certificate][4])             | `s.update([60,70], range(5))` |\n",
        "| `remove(elem)`       | Remove `elem`, **KeyError** if missing ([W3Schools][3])                          | `s.remove(20)`                |\n",
        "| `discard(elem)`      | Remove `elem` if present, **no error** if missing ([W3Schools][3])               | `s.discard(80)`               |\n",
        "| `pop()`              | Remove & return an **arbitrary** element; **KeyError** if empty ([W3Schools][3]) | `x = s.pop()`                 |\n",
        "| `clear()`            | Remove **all** elements (results in empty set) ([W3Schools][3])                  | `s.clear()`                   |\n",
        "| `copy()`             | Return a **shallow copy** of the set ([W3Schools][3])                            | `t = s.copy()`                |\n",
        "\n",
        "**Method differences:**\n",
        "\n",
        "* `add()` vs. `update()`: one element vs. many ([UW PCE Python Certificate][4])\n",
        "* `remove()` vs. `discard()`: error if missing vs. safe no-op ([W3Schools][3])\n",
        "* `pop()` vs. `remove()`: arbitrary element vs. specified element ([W3Schools][3])\n",
        "\n",
        "---\n",
        "\n",
        "## 4. Mathematical Operations\n",
        "\n",
        "Working with two sets `x` and `y`:\n",
        "\n",
        "| Operation                | Method or Operator                     | Result                          | Example                                                    |\n",
        "| ------------------------ | -------------------------------------- | ------------------------------- | ---------------------------------------------------------- |\n",
        "| **Union**                | `x.union(y)`  or `x \\| y`              | All elements in **either** set  | `{1,2}.union({2,3}) → {1,2,3}` ([Python documentation][1]) |\n",
        "| **Intersection**         | `x.intersection(y)` or `x & y`         | Elements in **both** sets       | `{1,2} & {2,3} → {2}` ([Python documentation][1])          |\n",
        "| **Difference**           | `x.difference(y)` or `x - y`           | In `x` but not in `y`           | `{1,2} - {2,3} → {1}` ([Python documentation][1])          |\n",
        "| **Symmetric Difference** | `x.symmetric_difference(y)` or `x ^ y` | In either, but not both         | `{1,2} ^ {2,3} → {1,3}` ([Python documentation][1])        |\n",
        "| **Subset Test**          | `x.issubset(y)` or `x <= y`            | True if all `x` elements in `y` | `{1} <= {1,2} → True` ([Python Reference][2])              |\n",
        "| **Superset Test**        | `x.issuperset(y)` or `x >= y`          | True if all `y` elements in `x` | `{1,2} >= {1} → True` ([Python Reference][2])              |\n",
        "\n",
        "---\n",
        "\n",
        "## 5. Iteration & Membership\n",
        "\n",
        "* **Membership test** (fast, O(1) average):\n",
        "\n",
        "  ````python\n",
        "  if 10 in s: …\n",
        "  if 'a' not in s: …\n",
        "  ``` :contentReference[oaicite:25]{index=25}  \n",
        "  ````\n",
        "* **Iterate**:\n",
        "\n",
        "  ```python\n",
        "  for elem in s:\n",
        "      print(elem)\n",
        "  ```\n",
        "* **Length**: `len(s)` ([Python documentation][5])\n",
        "\n",
        "---\n",
        "\n",
        "## 6. Set Comprehensions\n",
        "\n",
        "Create sets with concise syntax—duplicates automatically dropped:\n",
        "\n",
        "```python\n",
        "# Squares 0–4\n",
        "sq = {x*x for x in range(5)}\n",
        "# Powers of 2\n",
        "p2 = {2**x for x in range(1,6)}\n",
        "```\n",
        "\n",
        "```python\n",
        "# Filter: only even squares\n",
        "even_sq = {x for x in sq if x % 2 == 0}\n",
        "```\n",
        "\n",
        "Comprehensions run in *O(n)* time to build the set, with hash checks for uniqueness ([Python Reference][2]).\n",
        "\n",
        "---\n",
        "\n",
        "## 7. When & Why to Use Sets\n",
        "\n",
        "* **Deduplication**: remove duplicates from a list: `unique = set(my_list)` ([Python Reference][2])\n",
        "* **Membership checks**: very fast containment testing ([Python documentation][1])\n",
        "* **Mathematical set ops**: modeling unions, intersections, etc. ([Python documentation][1])\n",
        "* **Unordered data**: when order doesn’t matter but uniqueness does\n",
        "\n",
        "---\n",
        "\n",
        "## 8. Quick-Reference Table\n",
        "\n",
        "| Task                 | Syntax                                |\n",
        "| -------------------- | ------------------------------------- |\n",
        "| Empty set            | `s = set()`                           |\n",
        "| Singleton set        | `s = {x}`                             |\n",
        "| Add element          | `s.add(x)`                            |\n",
        "| Add many             | `s.update(iter1, iter2, …)`           |\n",
        "| Remove element       | `s.remove(x)` / `s.discard(x)`        |\n",
        "| Pop arbitrary        | `s.pop()`                             |\n",
        "| Clear all            | `s.clear()`                           |\n",
        "| Copy                 | `t = s.copy()`                        |\n",
        "| Union                | `s \\| t` / `s.union(t)`               |\n",
        "| Intersection         | `s & t` / `s.intersection(t)`         |\n",
        "| Difference           | `s - t` / `s.difference(t)`           |\n",
        "| Symmetric difference | `s ^ t` / `s.symmetric_difference(t)` |\n",
        "| Subset / superset    | `s <= t`, `s >= t`                    |\n",
        "| Comprehension        | `{expr for item in iterable if cond}` |\n",
        "\n",
        "Keep this sheet close for fast reference when working with sets—every snippet is backed by official documentation and trusted tutorials.\n",
        "\n",
        "[1]: https://docs.python.org/3/tutorial/datastructures.html?utm_source=chatgpt.com \"5. Data Structures — Python 3.13.3 documentation\"\n",
        "[2]: https://python-reference.readthedocs.io/en/latest/docs/sets/?utm_source=chatgpt.com \"set — Python Reference (The Right Way) 0.1 documentation\"\n",
        "[3]: https://www.w3schools.com/python/python_sets.asp?utm_source=chatgpt.com \"Python Sets - W3Schools\"\n",
        "[4]: https://uwpce-pythoncert.github.io/PythonCertDevel/modules/DictsAndSets.html?utm_source=chatgpt.com \"Dictionaries and Sets — PythonCert 5.0 documentation\"\n",
        "[5]: https://docs.python.org/3/library/functions.html?utm_source=chatgpt.com \"Built-in Functions — Python 3.13.3 documentation\"\n"
      ],
      "metadata": {
        "id": "wEiYnIrPFrXo"
      }
    },
    {
      "cell_type": "code",
      "source": [],
      "metadata": {
        "id": "PODmSqcOFsuM"
      },
      "execution_count": null,
      "outputs": []
    },
    {
      "cell_type": "code",
      "source": [
        "# Write a Program to eliminate Duplicates Present in the List?\n",
        "\n",
        "l = [1,2,3,4,1,3,6,3,5,4,1]\n",
        "\n",
        "print(set(l))\n",
        "res = []\n",
        "for num in l:\n",
        "  if num not in res:\n",
        "    res.append(num)\n",
        "\n",
        "print(res)"
      ],
      "metadata": {
        "id": "xLtOYXJNFtEz",
        "colab": {
          "base_uri": "https://localhost:8080/"
        },
        "outputId": "85c09df4-3c8d-4cdf-fbd8-0b9cd12646c6"
      },
      "execution_count": 3,
      "outputs": [
        {
          "output_type": "stream",
          "name": "stdout",
          "text": [
            "{1, 2, 3, 4, 5, 6}\n",
            "[1, 2, 3, 4, 6, 5]\n"
          ]
        }
      ]
    },
    {
      "cell_type": "code",
      "source": [
        "# ite a Program to Print different Vowels Present in thegiven Word?\n",
        "name = set(input(\"Enter the name: \"))\n",
        "\n",
        "vowels = {'a','e','i','o','u'}\n",
        "res = name.intersection(vowels)\n",
        "print(f'Different vowela present are {res}')"
      ],
      "metadata": {
        "colab": {
          "base_uri": "https://localhost:8080/"
        },
        "id": "_PXit6VL8cTi",
        "outputId": "5717bad0-b52f-4a64-c26b-02752644413c"
      },
      "execution_count": 6,
      "outputs": [
        {
          "output_type": "stream",
          "name": "stdout",
          "text": [
            "Enter the name: Mayur\n",
            "Different vowela present are {'a', 'u'}\n"
          ]
        }
      ]
    }
  ]
}