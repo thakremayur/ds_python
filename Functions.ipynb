{
  "nbformat": 4,
  "nbformat_minor": 0,
  "metadata": {
    "colab": {
      "provenance": []
    },
    "kernelspec": {
      "name": "python3",
      "display_name": "Python 3"
    },
    "language_info": {
      "name": "python"
    }
  },
  "cells": [
    {
      "cell_type": "markdown",
      "source": [
        "Below is a comprehensive **Function & Argument** cheat-sheet—mirroring the style of our earlier type collections—covering everything from definition and invocation to parameter types, return values, scope, and best practices. Use the summary to refresh core concepts quickly, then dive into each section for details and examples.\n",
        "\n",
        "---\n",
        "\n",
        "Python functions are the building blocks of reusable, modular code. You define them with `def` and invoke them by name, passing arguments in four main styles (positional, keyword, default, and variable-length). Functions may return any number of values (via tuples), support local vs. global variable scopes (with `global`), and enable higher-order programming patterns.\n",
        "\n",
        "---\n",
        "\n",
        "## 1. Defining & Calling Functions\n",
        "\n",
        "### 1.1 Syntax\n",
        "\n",
        "```python\n",
        "def func_name(param1, param2=default, *args, **kwargs):\n",
        "    \"\"\"\n",
        "    Optional docstring describing purpose, parameters, and return.\n",
        "    \"\"\"\n",
        "    # body: perform actions, compute results\n",
        "    return value_or_tuple  # optional; returns None if omitted\n",
        "```\n",
        "\n",
        "* **`def`** keyword is **mandatory**; **`return`** is optional (defaults to `None`).\n",
        "* **Docstrings** (`\"\"\"…\"\"\"`) describe function behavior, parameters, and return values.\n",
        "\n",
        "### 1.2 Invocation\n",
        "\n",
        "```python\n",
        "result = func_name(arg1, arg2)\n",
        "func_name()            # if all parameters have defaults or none required\n",
        "```\n",
        "\n",
        "---\n",
        "\n",
        "## 2. Parameters & Arguments\n",
        "\n",
        "| **Param Type**     | **Declaration**       | **Call Example**       | **Notes**                                                                                       |\n",
        "| ------------------ | --------------------- | ---------------------- | ----------------------------------------------------------------------------------------------- |\n",
        "| **Positional**     | `def f(a, b): …`      | `f(10, 20)`            | Arguments matched by position; count and order must align.                                      |\n",
        "| **Keyword**        | `def f(a, b): …`      | `f(b=20, a=10)`        | Specify `name=value`; order can vary; positional args must come first.                          |\n",
        "| **Default**        | `def f(a, b=5): …`    | `f(10)` or `f(10, 15)` | Provides fallback if caller omits argument; all defaults must follow non-defaults in signature. |\n",
        "| **Var-Positional** | `def f(*args): …`     | `f(1,2,3,4)` or `f()`  | Gathers extra positional args into a tuple `args`; can combine with named/keyword args.         |\n",
        "| **Keyword-only**   | `def f(*, k1, k2): …` | `f(k1=1, k2=2)`        | Declared after `*` in signature; must be provided by name.                                      |\n",
        "| **Var-Keyword**    | `def f(**kwargs): …`  | `f(x=1, y=2)`          | Gathers extra `name=value` pairs into a dict `kwargs`; flexible extension.                      |\n",
        "\n",
        "---\n",
        "\n",
        "## 3. Return Values\n",
        "\n",
        "* **Single** value: `return x`\n",
        "* **Multiple** via tuple packing: `return sum, diff`\n",
        "\n",
        "  ```python\n",
        "  def sum_sub(a,b):\n",
        "      return a+b, a-b\n",
        "  s, d = sum_sub(10,5)  # s=15, d=5\n",
        "  ```\n",
        "* **None** by default if no `return`.\n",
        "\n",
        "---\n",
        "\n",
        "## 4. Variable Scope\n",
        "\n",
        "| **Scope**         | **Accessible Where**                                                           | **Keyword**   |\n",
        "| ----------------- | ------------------------------------------------------------------------------ | ------------- |\n",
        "| **Global**        | Anywhere in module (after definition)                                          | —             |\n",
        "| **Local**         | Inside the function where declared                                             | —             |\n",
        "| **Modify Global** | Inside function, to assign to a global variable rather than create a local one | `global name` |\n",
        "\n",
        "```python\n",
        "a = 10\n",
        "def f():\n",
        "    global a\n",
        "    a = 20   # modifies the module-level 'a'\n",
        "```\n",
        "\n",
        "---\n",
        "\n",
        "## 5. First-Class & Higher-Order\n",
        "\n",
        "* **Functions as objects**: assign to variables, pass as arguments, return from other functions.\n",
        "\n",
        "  ```python\n",
        "  def apply(f, x): return f(x)\n",
        "  double = lambda n: 2*n\n",
        "  print(apply(double, 5))  # 10\n",
        "  ```\n",
        "\n",
        "---\n",
        "\n",
        "## 6. Best Practices & Tips\n",
        "\n",
        "1. **Docstrings**: document parameters, return types, and side-effects.\n",
        "2. **Type hints** (Python 3.5+):\n",
        "\n",
        "   ```python\n",
        "   def greet(name: str) -> None:\n",
        "       print(f\"Hello, {name}\")\n",
        "   ```\n",
        "3. **Keep functions small**: single responsibility principle.\n",
        "4. **Keyword args** for clarity when many parameters.\n",
        "5. **Use `*args`/`**kwargs`** sparingly—only when you need real flexibility.\n",
        "\n",
        "---\n",
        "\n",
        "## 7. Quick-Reference Table\n",
        "\n",
        "| Task                           | Syntax / Example          |\n",
        "| ------------------------------ | ------------------------- |\n",
        "| Define simple function         | `def f(): …`              |\n",
        "| Return multiple values         | `return a, b, c`          |\n",
        "| Positional + default + varargs | `def f(x, y=2, *args): …` |\n",
        "| Keyword-only args              | `def f(*, kw1, kw2=5): …` |\n",
        "| Capture extra kwargs           | `def f(**kwargs): …`      |\n",
        "| Modify global                  | `global var; var=…`       |\n",
        "| Lambda (anonymous)             | `lambda x: x*x`           |\n",
        "| Assign function to var         | `g = f; g()`              |\n",
        "\n",
        "Keep this sheet at your fingertips when writing or reviewing Python functions—every pattern you need, in one place!\n"
      ],
      "metadata": {
        "id": "iEt70pkGbo2n"
      }
    },
    {
      "cell_type": "code",
      "execution_count": null,
      "metadata": {
        "id": "NitzoQ8WZf95"
      },
      "outputs": [],
      "source": []
    },
    {
      "cell_type": "code",
      "source": [
        "try:\n",
        "  a = 5 / 1\n",
        "  b = a + '10'\n",
        "except Exception as e:\n",
        "  print(f\"An error occuraed as {e}\")\n"
      ],
      "metadata": {
        "colab": {
          "base_uri": "https://localhost:8080/"
        },
        "id": "jHAJ2uFOporS",
        "outputId": "b179a4eb-86cf-48c7-e5ed-efd88d59d178"
      },
      "execution_count": null,
      "outputs": [
        {
          "output_type": "stream",
          "name": "stdout",
          "text": [
            "An error occuraed as unsupported operand type(s) for +: 'float' and 'str'\n"
          ]
        }
      ]
    },
    {
      "cell_type": "code",
      "source": [
        "s = 'Be not afraid of greatness, some are born great, some achieve greatness, and some have greatness thrust upon them'\n",
        "s = s.replace(',', \" \")\n",
        "l = sorted(s.split(), key= lambda word: len(word))\n",
        "\n",
        "for word in l:\n",
        "  print(word)\n",
        "\n",
        "print(l)"
      ],
      "metadata": {
        "colab": {
          "base_uri": "https://localhost:8080/"
        },
        "id": "u359jwdPKGrI",
        "outputId": "04318b91-d4cd-4341-b19c-26855d94d8e4"
      },
      "execution_count": null,
      "outputs": [
        {
          "output_type": "stream",
          "name": "stdout",
          "text": [
            "Be\n",
            "of\n",
            "not\n",
            "are\n",
            "and\n",
            "some\n",
            "born\n",
            "some\n",
            "some\n",
            "have\n",
            "upon\n",
            "them\n",
            "great\n",
            "afraid\n",
            "thrust\n",
            "achieve\n",
            "greatness\n",
            "greatness\n",
            "greatness\n",
            "['Be', 'of', 'not', 'are', 'and', 'some', 'born', 'some', 'some', 'have', 'upon', 'them', 'great', 'afraid', 'thrust', 'achieve', 'greatness', 'greatness', 'greatness']\n"
          ]
        }
      ]
    }
  ]
}